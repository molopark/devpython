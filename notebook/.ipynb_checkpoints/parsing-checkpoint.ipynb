{
 "cells": [
  {
   "cell_type": "code",
   "execution_count": 3,
   "metadata": {},
   "outputs": [
    {
     "name": "stdout",
     "output_type": "stream",
     "text": [
      "Book1\n",
      "12345\n",
      "author1\n",
      "30\n",
      "author2\n",
      "25\n"
     ]
    }
   ],
   "source": [
    "import json\n",
    "\n",
    "data = '{\"title\":\"Book1\", \"ISBN\":\"12345\", \"author\":[{\"name\":\"author1\", \"age\":30}, {\"name\":\"author2\", \"age\":25}]}'\n",
    "json_data = json.loads(data)\n",
    "\n",
    "print(json_data['title'])\n",
    "print(json_data['ISBN'])\n",
    "\n",
    "for author in json_data['author']:\n",
    "    print(author['name'])\n",
    "    print(author['age'])"
   ]
  },
  {
   "cell_type": "code",
   "execution_count": 6,
   "metadata": {},
   "outputs": [
    {
     "name": "stdout",
     "output_type": "stream",
     "text": [
      "Book1\n",
      "12345\n",
      "author1\n",
      "30\n",
      "author2\n",
      "25\n"
     ]
    }
   ],
   "source": [
    "import json\n",
    "from io import StringIO\n",
    "\n",
    "io = StringIO('{\"title\":\"Book1\", \"ISBN\":\"12345\", \"author\":[{\"name\":\"author1\", \"age\":30}, {\"name\":\"author2\", \"age\":25}]}')\n",
    "json_data = json.load(io)\n",
    "\n",
    "print(json_data['title'])\n",
    "print(json_data['ISBN'])\n",
    "\n",
    "for author in json_data['author']:\n",
    "    print(author['name'])\n",
    "    print(author['age'])"
   ]
  },
  {
   "cell_type": "code",
   "execution_count": 9,
   "metadata": {},
   "outputs": [
    {
     "name": "stdout",
     "output_type": "stream",
     "text": [
      "{\"title\": \"Book1\", \"ISBN\": \"12345\", \"author\": [{\"name\": \"author1\", \"age\": 30}, {\"name\": \"author2\", \"age\": 25}]}\n",
      "\n",
      "{\n",
      "    \"title\": \"Book1\",\n",
      "    \"ISBN\": \"12345\",\n",
      "    \"author\": [\n",
      "        {\n",
      "            \"name\": \"author1\",\n",
      "            \"age\": 30\n",
      "        },\n",
      "        {\n",
      "            \"name\": \"author2\",\n",
      "            \"age\": 25\n",
      "        }\n",
      "    ]\n",
      "}\n"
     ]
    }
   ],
   "source": [
    "import json\n",
    "\n",
    "book = {\"title\":\"Book1\", \"ISBN\":\"12345\", \"author\":[{\"name\":\"author1\", \"age\":30}, {\"name\":\"author2\", \"age\":25}]}\n",
    "print(json.dumps(book))\n",
    "print('')\n",
    "print(json.dumps(book, indent=4))"
   ]
  },
  {
   "cell_type": "code",
   "execution_count": 11,
   "metadata": {},
   "outputs": [
    {
     "name": "stdout",
     "output_type": "stream",
     "text": [
      "{\"title\": \"Book1\", \"ISBN\": \"12345\", \"author\": [{\"name\": \"author1\", \"age\": 30}, {\"name\": \"author2\", \"age\": 25}]}\n",
      "\n",
      "{\n",
      "    \"title\": \"Book1\",\n",
      "    \"ISBN\": \"12345\",\n",
      "    \"author\": [\n",
      "        {\n",
      "            \"name\": \"author1\",\n",
      "            \"age\": 30\n",
      "        },\n",
      "        {\n",
      "            \"name\": \"author2\",\n",
      "            \"age\": 25\n",
      "        }\n",
      "    ]\n",
      "}\n"
     ]
    }
   ],
   "source": [
    "import json\n",
    "from io import StringIO\n",
    "\n",
    "book = {\"title\":\"Book1\", \"ISBN\":\"12345\", \"author\":[{\"name\":\"author1\", \"age\":30}, {\"name\":\"author2\", \"age\":25}]}\n",
    "io = StringIO()\n",
    "json.dump(book, io)\n",
    "print(io.getvalue())\n",
    "print('')\n",
    "\n",
    "io = StringIO()\n",
    "json.dump(book, io, indent=4)\n",
    "print(io.getvalue())"
   ]
  },
  {
   "cell_type": "code",
   "execution_count": 13,
   "metadata": {},
   "outputs": [
    {
     "name": "stdout",
     "output_type": "stream",
     "text": [
      "<Element 'rss' at 0x00F6FC30>\n"
     ]
    }
   ],
   "source": [
    "from xml.etree import ElementTree\n",
    "\n",
    "tree = ElementTree.parse(\"rss.xml\")\n",
    "root = tree.getroot()\n",
    "\n",
    "print(root)"
   ]
  },
  {
   "cell_type": "code",
   "execution_count": null,
   "metadata": {},
   "outputs": [],
   "source": [
    "from xml.etree import ElementTree\n",
    "\n",
    "tree = ElementTree.parse(\"rss.xml\")\n",
    "root = tree.getroot()\n",
    "\n",
    "#root.findall(\"channel/item/description/body/location/data\")\n",
    "#for data in root.findall(\"channel/item/description/body/location/data\"):\n",
    "#    tmEf = data.find(\"tmEf\").text\n",
    "#    print(tmEf)\n",
    "\n",
    "for aa in root.findall(\"channel\"):\n",
    "    print(aa.find(\"title\").text)"
   ]
  },
  {
   "cell_type": "code",
   "execution_count": null,
   "metadata": {},
   "outputs": [],
   "source": [
    "dkdk"
   ]
  }
 ],
 "metadata": {
  "kernelspec": {
   "display_name": "Python 3",
   "language": "python",
   "name": "python3"
  },
  "language_info": {
   "codemirror_mode": {
    "name": "ipython",
    "version": 3
   },
   "file_extension": ".py",
   "mimetype": "text/x-python",
   "name": "python",
   "nbconvert_exporter": "python",
   "pygments_lexer": "ipython3",
   "version": "3.7.3"
  }
 },
 "nbformat": 4,
 "nbformat_minor": 4
}
