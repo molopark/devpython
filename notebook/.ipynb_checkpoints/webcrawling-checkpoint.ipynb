{
 "cells": [
  {
   "cell_type": "markdown",
   "metadata": {},
   "source": [
    "### request 를 이용한 웹크롤링\n",
    "- 예제로 배우는 파이썬 프로그래밍"
   ]
  },
  {
   "cell_type": "code",
   "execution_count": 3,
   "metadata": {
    "collapsed": true,
    "jupyter": {
     "outputs_hidden": true
    }
   },
   "outputs": [
    {
     "name": "stdout",
     "output_type": "stream",
     "text": [
      "{\n",
      "  \"args\": {}, \n",
      "  \"headers\": {\n",
      "    \"Accept\": \"*/*\", \n",
      "    \"Accept-Encoding\": \"gzip, deflate\", \n",
      "    \"Host\": \"httpbin.org\", \n",
      "    \"User-Agent\": \"python-requests/2.23.0\", \n",
      "    \"X-Amzn-Trace-Id\": \"Root=1-5e817f7b-3a6a0e841d6620c090b3b2ac\"\n",
      "  }, \n",
      "  \"origin\": \"14.39.185.124\", \n",
      "  \"url\": \"http://httpbin.org/get\"\n",
      "}\n",
      "\n"
     ]
    }
   ],
   "source": [
    "import requests\n",
    "\n",
    "#get\n",
    "resp = requests.get('http://httpbin.org/get')\n",
    "print(resp.text)"
   ]
  },
  {
   "cell_type": "code",
   "execution_count": 4,
   "metadata": {
    "collapsed": true,
    "jupyter": {
     "outputs_hidden": true
    }
   },
   "outputs": [
    {
     "name": "stdout",
     "output_type": "stream",
     "text": [
      "{\n",
      "  \"args\": {}, \n",
      "  \"data\": \"\", \n",
      "  \"files\": {}, \n",
      "  \"form\": {\n",
      "    \"age\": \"10\", \n",
      "    \"id\": \"1\", \n",
      "    \"name\": \"kim\"\n",
      "  }, \n",
      "  \"headers\": {\n",
      "    \"Accept\": \"*/*\", \n",
      "    \"Accept-Encoding\": \"gzip, deflate\", \n",
      "    \"Content-Length\": \"20\", \n",
      "    \"Content-Type\": \"application/x-www-form-urlencoded\", \n",
      "    \"Host\": \"httpbin.org\", \n",
      "    \"User-Agent\": \"python-requests/2.23.0\", \n",
      "    \"X-Amzn-Trace-Id\": \"Root=1-5e81803e-4f92555650af1fce5ba3615e\"\n",
      "  }, \n",
      "  \"json\": null, \n",
      "  \"origin\": \"14.39.185.124\", \n",
      "  \"url\": \"http://httpbin.org/post\"\n",
      "}\n",
      "\n"
     ]
    }
   ],
   "source": [
    "#post\n",
    "dic = {\"id\":1, \"name\":\"kim\", \"age\":10}\n",
    "resp = requests.post('http://httpbin.org/post', data=dic)\n",
    "print(resp.text)"
   ]
  },
  {
   "cell_type": "code",
   "execution_count": 5,
   "metadata": {},
   "outputs": [],
   "source": [
    "resp = requests.put('http://httpbin.org/put')\n",
    "resp = requests.delete('http://httpbin.org/delete')"
   ]
  },
  {
   "cell_type": "code",
   "execution_count": 10,
   "metadata": {},
   "outputs": [
    {
     "data": {
      "text/plain": [
       "'UTF-8'"
      ]
     },
     "execution_count": 10,
     "metadata": {},
     "output_type": "execute_result"
    }
   ],
   "source": [
    "#다음 홈페이지에 html 가져오기\n",
    "import requests\n",
    "\n",
    "resp = requests.get('http://daum.net')\n",
    "#한글 확인\n",
    "resp.encoding\n",
    "#resp.encoding = None\n",
    "#resp.encoding = 'euc-kr' #'utf-8'\n",
    "\n",
    "#if(resp.status_code == requests.codes.ok):\n",
    "#    html = resp.text\n",
    "#    print(html)"
   ]
  },
  {
   "cell_type": "code",
   "execution_count": 21,
   "metadata": {},
   "outputs": [
    {
     "name": "stdout",
     "output_type": "stream",
     "text": [
      "\n",
      " [Asia오전]잡히지 않는 코로나19…증시 또 '약세' \n",
      " [오전시황] 경기 침체 우려에 다시 코스피 하락해 1,600대로 \n",
      " [외환브리핑]\"경기침체 진입\"…커지는 글로벌경기 둔화 우려 \n",
      " [굿모닝 증시]'반등' 논하기에는 일렀나…경제지표에 주목 \n",
      " [일일펀드동향]국내 채권형펀드, 8거래일간 3조7367억원 순유출 \n",
      " [김현석의 월스트리트나우] JP모간 \"경제 두 달내 회복된다면 지금이 바닥\" \n",
      "\n"
     ]
    }
   ],
   "source": [
    "#웹페이지 파싱\n",
    "import requests, bs4\n",
    "\n",
    "resp = requests.get('http://finance.naver.com')\n",
    "resp.raise_for_status()\n",
    "resp.encoding='euc-kr'\n",
    "html = resp.text\n",
    "#print(html)\n",
    "\n",
    "bs = bs4.BeautifulSoup(html, 'html.parser')\n",
    "tags = bs.select('div.news_area ul') #top 뉴스\n",
    "title = tags[0].getText()\n",
    "print(title)"
   ]
  },
  {
   "cell_type": "code",
   "execution_count": null,
   "metadata": {},
   "outputs": [],
   "source": []
  }
 ],
 "metadata": {
  "kernelspec": {
   "display_name": "Python 3",
   "language": "python",
   "name": "python3"
  },
  "language_info": {
   "codemirror_mode": {
    "name": "ipython",
    "version": 3
   },
   "file_extension": ".py",
   "mimetype": "text/x-python",
   "name": "python",
   "nbconvert_exporter": "python",
   "pygments_lexer": "ipython3",
   "version": "3.7.3"
  }
 },
 "nbformat": 4,
 "nbformat_minor": 4
}
