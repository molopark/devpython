{
 "cells": [
  {
   "cell_type": "markdown",
   "metadata": {},
   "source": [
    "# 파일읽기"
   ]
  },
  {
   "cell_type": "code",
   "execution_count": null,
   "metadata": {},
   "outputs": [],
   "source": [
    "# coding=utf-8\n",
    "with open('writetext.txt', 'r') as file:\n",
    "    for line in file:\n",
    "        print(line)"
   ]
  },
  {
   "cell_type": "code",
   "execution_count": null,
   "metadata": {},
   "outputs": [],
   "source": [
    "file = open('writetext.txt')\n",
    "linetxt = file.readline()\n",
    "print(linetxt)\n",
    "file.close()"
   ]
  },
  {
   "cell_type": "markdown",
   "metadata": {},
   "source": [
    "# 파일쓰기"
   ]
  },
  {
   "cell_type": "code",
   "execution_count": null,
   "metadata": {},
   "outputs": [],
   "source": [
    "# coding=utf-8\n",
    "try:\n",
    "    with open('writetext.txt', 'x') as file:\n",
    "        file.write('파일로 저장된 내용')\n",
    "except FileExistsError:\n",
    "    print('파일이 이미 존재합니다.')"
   ]
  },
  {
   "cell_type": "markdown",
   "metadata": {},
   "source": [
    "# 엑셀데이터 읽고 쓰기"
   ]
  },
  {
   "cell_type": "code",
   "execution_count": null,
   "metadata": {},
   "outputs": [],
   "source": [
    "import openpyxl\n",
    "\n",
    "#workbook\n",
    "wb = openpyxl.load_workbook('score.xlsx')\n",
    "\n",
    "#worksheet\n",
    "ws = wb.active\n",
    "#ws = wb.get_sheet_by_name('Sheet1')\n",
    "\n",
    "for r in ws.rows:\n",
    "    row_index = r[0].row\n",
    "    kor = r[1].value\n",
    "    eng = r[2].value\n",
    "    math = r[3].value\n",
    "    sum = kor + eng + math\n",
    "    \n",
    "    ws.cell(row=row_index, column=5).value = sum\n",
    "    print(kor, eng, math, sum)\n",
    "    \n",
    "wb.save('score2.xlsx')\n",
    "wb.close()"
   ]
  }
 ],
 "metadata": {
  "kernelspec": {
   "display_name": "Python 3",
   "language": "python",
   "name": "python3"
  },
  "language_info": {
   "codemirror_mode": {
    "name": "ipython",
    "version": 3
   },
   "file_extension": ".py",
   "mimetype": "text/x-python",
   "name": "python",
   "nbconvert_exporter": "python",
   "pygments_lexer": "ipython3",
   "version": "3.7.3"
  }
 },
 "nbformat": 4,
 "nbformat_minor": 4
}
